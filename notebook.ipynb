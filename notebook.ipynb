{
 "cells": [
  {
   "attachments": {},
   "cell_type": "markdown",
   "metadata": {},
   "source": [
    "## Importando bibliotecas"
   ]
  },
  {
   "cell_type": "code",
   "execution_count": 17,
   "metadata": {},
   "outputs": [],
   "source": [
    "from requests_html import HTMLSession\n",
    "from bs4 import BeautifulSoup\n",
    "import re\n",
    "import pandas as pd\n",
    "import numpy as np"
   ]
  },
  {
   "attachments": {},
   "cell_type": "markdown",
   "metadata": {},
   "source": [
    "Abertura de uma sessão utilizando a biblioteca requests_html e fornecendo o endereço que iremos realizar o scraper. "
   ]
  },
  {
   "cell_type": "code",
   "execution_count": 18,
   "metadata": {},
   "outputs": [],
   "source": [
    "session = HTMLSession()\n",
    "session.cookies.set(\"COOKIE_NAME\", \"the cookie works\", domain=\"https://www.goodreads.com/\")\n",
    "\n",
    "url = 'https://www.goodreads.com/shelf/show/'\n",
    "\n",
    "genre = input('Type the genre you want to search (you can find the name on goodreads): ')"
   ]
  },
  {
   "attachments": {},
   "cell_type": "markdown",
   "metadata": {},
   "source": [
    "Para obter as notas e o ano de publicação, utilizei Regex, para identificar a média de notas, utilizando o método search."
   ]
  },
  {
   "cell_type": "code",
   "execution_count": 19,
   "metadata": {},
   "outputs": [],
   "source": [
    "def get_rating(input_text):\n",
    "    match = re.search(r'avg rating (\\d+\\.\\d+)', input_text)\n",
    "    if match:\n",
    "        avg_rating = float(match.group(1))\n",
    "        return avg_rating"
   ]
  },
  {
   "cell_type": "code",
   "execution_count": 20,
   "metadata": {},
   "outputs": [],
   "source": [
    "def get_year(input_text):\n",
    "    match_published = re.search(r'published (\\d{4})', input_text)\n",
    "    if match_published:\n",
    "        year_published = int(match_published.group(1))\n",
    "        return year_published"
   ]
  },
  {
   "attachments": {},
   "cell_type": "markdown",
   "metadata": {},
   "source": [
    "### Variáveis que armazenarão os valores"
   ]
  },
  {
   "cell_type": "code",
   "execution_count": 21,
   "metadata": {},
   "outputs": [],
   "source": [
    "titles = []\n",
    "authors = []\n",
    "ratings = []\n",
    "released = []"
   ]
  },
  {
   "attachments": {},
   "cell_type": "markdown",
   "metadata": {},
   "source": [
    "A função get_data tem o papel de abrir uma sessão na url, passar as informações capturadas nela para o beautiful soup que analisará o HTML, sendo possível extrair dados do mesmo. Através da escolha de atributos e nomes de classes, retiramos o título, o autor, nota e ano. Cada um desses dados, será adicionado as listas declaradas acima. "
   ]
  },
  {
   "cell_type": "code",
   "execution_count": 22,
   "metadata": {},
   "outputs": [],
   "source": [
    "def get_data(url):\n",
    "    r = session.get(url + genre)\n",
    "    r.cookies\n",
    "    soup = BeautifulSoup(r.text, 'html.parser')\n",
    "    for d in soup.find_all('div', attrs={'class': 'elementList'}):\n",
    "        info = d.find('div', attrs={'class', 'left'})\n",
    "        if (info is not None):\n",
    "            title = info.find('img', alt=True)\n",
    "            titles.append(title.get('alt'))\n",
    "            author = info.find('a', attrs={'class', 'authorName'})\n",
    "            authors.append(author.find('span').text)\n",
    "            smallText = info.find('span', attrs={'class', 'smallText'})\n",
    "            rating = get_rating(smallText.text)\n",
    "            year = get_year(smallText.text)\n",
    "            ratings.append(rating)\n",
    "            released.append(year)\n",
    "\n",
    "    return\n",
    "\n",
    "get_data(url)"
   ]
  },
  {
   "cell_type": "code",
   "execution_count": 23,
   "metadata": {},
   "outputs": [],
   "source": [
    "released = np.array(released) # int"
   ]
  },
  {
   "attachments": {},
   "cell_type": "markdown",
   "metadata": {},
   "source": [
    "Como ponto final, escolhi criar um dataframe a partir desses dados, utilizando pandas."
   ]
  },
  {
   "cell_type": "code",
   "execution_count": 24,
   "metadata": {},
   "outputs": [],
   "source": [
    "df = pd.DataFrame({'Titulo': titles, 'Autor': authors, 'Nota': ratings, 'Ano de lancamento': released})\n",
    "\n",
    "# By rating\n",
    "df = df.sort_values(by=['Nota'], ascending=False)\n",
    "\n",
    "df.to_csv(f'books_{genre}_goodreads.csv')"
   ]
  }
 ],
 "metadata": {
  "kernelspec": {
   "display_name": "Python 3",
   "language": "python",
   "name": "python3"
  },
  "language_info": {
   "codemirror_mode": {
    "name": "ipython",
    "version": 3
   },
   "file_extension": ".py",
   "mimetype": "text/x-python",
   "name": "python",
   "nbconvert_exporter": "python",
   "pygments_lexer": "ipython3",
   "version": "3.11.4"
  },
  "orig_nbformat": 4
 },
 "nbformat": 4,
 "nbformat_minor": 2
}
